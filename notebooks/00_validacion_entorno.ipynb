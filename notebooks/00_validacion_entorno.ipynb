{
 "cells": [
  {
   "cell_type": "markdown",
   "id": "e89b0fa79a0a122a",
   "metadata": {},
   "source": [
    "# 00. Environment Validation\n",
    "\n",
    "Este notebook valida el entorno Python y la configuración hardware/software para el laboratorio de aprendizaje federado. Se comprueba la versión de Python, los paquetes principales y el soporte de aceleración hardware (CPU, GPU, NPU).\n",
    "\n",
    "---"
   ]
  },
  {
   "cell_type": "markdown",
   "id": "56d9d5bc3fa0776d",
   "metadata": {},
   "source": [
    "## 1. Versión de Python y ruta del intérprete\n",
    "\n",
    "Comprobamos la versión de Python y la ruta del intérprete que está usando el entorno."
   ]
  },
  {
   "cell_type": "code",
   "id": "a175ca40fceed2f3",
   "metadata": {
    "ExecuteTime": {
     "end_time": "2025-07-28T18:41:22.227940Z",
     "start_time": "2025-07-28T18:41:22.221012Z"
    }
   },
   "source": [
    "import sys\n",
    "\n",
    "print(f\"Versión de Python: {sys.version}\")\n",
    "print(f\"Ruta del intérprete: {sys.executable}\")"
   ],
   "outputs": [
    {
     "name": "stdout",
     "output_type": "stream",
     "text": [
      "Versión de Python: 3.13.5 | packaged by conda-forge | (main, Jun 16 2025, 08:20:19) [MSC v.1943 64 bit (AMD64)]\n",
      "Ruta del intérprete: C:\\Users\\padul\\anaconda3\\envs\\ia-flower\\python.exe\n"
     ]
    }
   ],
   "execution_count": 1
  },
  {
   "cell_type": "markdown",
   "id": "b38897499c130039",
   "metadata": {},
   "source": [
    "## 2. Versiones de los paquetes principales\n",
    "\n",
    "Listamos y mostramos las versiones de los paquetes clave para el laboratorio."
   ]
  },
  {
   "cell_type": "code",
   "id": "d2f58e7eb5c708f5",
   "metadata": {
    "ExecuteTime": {
     "end_time": "2025-07-28T18:41:26.612276Z",
     "start_time": "2025-07-28T18:41:22.961740Z"
    }
   },
   "source": [
    "import importlib\n",
    "\n",
    "packages = [\n",
    "    'numpy', 'pandas', 'matplotlib', 'psutil', 'tqdm',\n",
    "    'torch', 'flwr', 'openvino', 'openvino_genai', 'notebook'\n",
    "]\n",
    "\n",
    "for pkg in packages:\n",
    "    try:\n",
    "        mod = importlib.import_module(pkg)\n",
    "        ver = getattr(mod, '__version__', 'unknown')\n",
    "        print(f\"{pkg}: {ver}\")\n",
    "    except Exception as e:\n",
    "        print(f\"{pkg}: NO INSTALADO ({e})\")"
   ],
   "outputs": [
    {
     "name": "stdout",
     "output_type": "stream",
     "text": [
      "numpy: 2.3.2\n",
      "pandas: 2.3.1\n",
      "matplotlib: 3.10.3\n",
      "psutil: 7.0.0\n",
      "tqdm: 4.67.1\n",
      "torch: 2.5.1\n",
      "flwr: 1.19.0\n",
      "openvino: 2025.2.0-19140-c01cd93e24d-releases/2025/2\n",
      "openvino_genai: 2025.2.0.0-2260-01f0fe1eded\n",
      "notebook: 7.4.4\n"
     ]
    }
   ],
   "execution_count": 2
  },
  {
   "cell_type": "markdown",
   "id": "c69f52be42bdfa5c",
   "metadata": {},
   "source": [
    "## 3. Validación de GPU NVIDIA y versión de CUDA con PyTorch\n",
    "\n",
    "Verificamos si PyTorch detecta la GPU NVIDIA y mostramos la versión de CUDA."
   ]
  },
  {
   "cell_type": "code",
   "id": "5c3ea650ae270fe0",
   "metadata": {
    "ExecuteTime": {
     "end_time": "2025-07-28T18:41:26.974578Z",
     "start_time": "2025-07-28T18:41:26.677683Z"
    }
   },
   "source": [
    "import torch\n",
    "\n",
    "gpu_available = torch.cuda.is_available()\n",
    "print(f\"¿GPU disponible (torch.cuda.is_available)? {gpu_available}\")\n",
    "if gpu_available:\n",
    "    print(f\"Versión de CUDA (torch.version.cuda): {torch.version.cuda}\")\n",
    "    print(f\"Número de GPUs: {torch.cuda.device_count()}\")\n",
    "    print(f\"Nombre de la GPU: {torch.cuda.get_device_name(0)}\")\n",
    "else:\n",
    "    print(\"PyTorch no detecta una GPU NVIDIA.\")"
   ],
   "outputs": [
    {
     "name": "stdout",
     "output_type": "stream",
     "text": [
      "¿GPU disponible (torch.cuda.is_available)? True\n",
      "Versión de CUDA (torch.version.cuda): 12.6\n",
      "Número de GPUs: 1\n",
      "Nombre de la GPU: NVIDIA GeForce RTX 4080 Laptop GPU\n"
     ]
    }
   ],
   "execution_count": 3
  },
  {
   "cell_type": "markdown",
   "id": "1a4e2abb11a145f4",
   "metadata": {},
   "source": [
    "## 4. Detección de dispositivos con OpenVINO\n",
    "\n",
    "Listamos los dispositivos disponibles (CPU, GPU, NPU) usando OpenVINO."
   ]
  },
  {
   "cell_type": "code",
   "id": "747948e52475cbd4",
   "metadata": {
    "ExecuteTime": {
     "end_time": "2025-07-28T18:41:28.842608Z",
     "start_time": "2025-07-28T18:41:26.986921Z"
    }
   },
   "source": [
    "try:\n",
    "    from openvino import Core\n",
    "\n",
    "    core = Core()\n",
    "    devices = core.available_devices\n",
    "    print(\"Dispositivos disponibles en OpenVINO:\")\n",
    "    for d in devices:\n",
    "        print(f\" - {d}\")\n",
    "    print(\"\\nResumen de dispositivos:\")\n",
    "    print(f\"CPU detectado: {any('CPU' in d for d in devices)}\")\n",
    "    print(f\"GPU detectado: {any('GPU' in d for d in devices)}\")\n",
    "    print(f\"NPU (Intel AI Boost) detectado: {any('NPU' in d or 'AUTO:NPU' in d for d in devices)}\")\n",
    "except Exception as e:\n",
    "    print(f\"Fallo en la detección de dispositivos OpenVINO: {e}\")"
   ],
   "outputs": [
    {
     "name": "stdout",
     "output_type": "stream",
     "text": [
      "Dispositivos disponibles en OpenVINO:\n",
      " - CPU\n",
      " - GPU\n",
      " - NPU\n",
      "\n",
      "Resumen de dispositivos:\n",
      "CPU detectado: True\n",
      "GPU detectado: True\n",
      "NPU (Intel AI Boost) detectado: True\n"
     ]
    }
   ],
   "execution_count": 4
  },
  {
   "cell_type": "markdown",
   "id": "4e1dd053dcf4bc73",
   "metadata": {},
   "source": [
    "## 5. Validación de scikit-learn\n",
    "\n",
    "Validamos la instalación y configuración de scikit-learn, incluyendo versión, módulos principales y configuración detallada."
   ]
  },
  {
   "cell_type": "code",
   "id": "ee7523cbc3ca0bba",
   "metadata": {
    "ExecuteTime": {
     "end_time": "2025-07-28T18:41:30.807754Z",
     "start_time": "2025-07-28T18:41:28.867375Z"
    }
   },
   "source": [
    "print(\"\\n--- Validando scikit-learn ---\")\n",
    "try:\n",
    "    import sklearn\n",
    "\n",
    "    print(f\"✔ scikit-learn importado correctamente. Versión: {sklearn.__version__}\")\n",
    "    # Verificar algunos módulos principales\n",
    "    from sklearn.ensemble import RandomForestClassifier\n",
    "    from sklearn.model_selection import train_test_split\n",
    "    from sklearn.metrics import accuracy_score\n",
    "\n",
    "    print(\"✔ Módulos principales de scikit-learn disponibles\")\n",
    "    # Mostrar configuración detallada\n",
    "    sklearn.show_versions()\n",
    "except Exception as e:\n",
    "    print(f\"✗ Error al validar scikit-learn: {e}\")"
   ],
   "outputs": [
    {
     "name": "stdout",
     "output_type": "stream",
     "text": [
      "\n",
      "--- Validando scikit-learn ---\n",
      "✔ scikit-learn importado correctamente. Versión: 1.7.1\n",
      "✔ Módulos principales de scikit-learn disponibles\n",
      "\n",
      "System:\n",
      "    python: 3.13.5 | packaged by conda-forge | (main, Jun 16 2025, 08:20:19) [MSC v.1943 64 bit (AMD64)]\n",
      "executable: C:\\Users\\padul\\anaconda3\\envs\\ia-flower\\python.exe\n",
      "   machine: Windows-11-10.0.26100-SP0\n",
      "\n",
      "Python dependencies:\n",
      "      sklearn: 1.7.1\n",
      "          pip: 25.1.1\n",
      "   setuptools: 75.8.2\n",
      "        numpy: 2.3.2\n",
      "        scipy: 1.16.0\n",
      "       Cython: None\n",
      "       pandas: 2.3.1\n",
      "   matplotlib: 3.10.3\n",
      "       joblib: 1.5.1\n",
      "threadpoolctl: 3.6.0\n",
      "\n",
      "Built with OpenMP: True\n",
      "\n",
      "threadpoolctl info:\n",
      "       user_api: blas\n",
      "   internal_api: mkl\n",
      "    num_threads: 1\n",
      "         prefix: libblas\n",
      "       filepath: C:\\Users\\padul\\anaconda3\\envs\\ia-flower\\Library\\bin\\libblas.dll\n",
      "        version: 2025.2-Product\n",
      "threading_layer: intel\n",
      "\n",
      "       user_api: openmp\n",
      "   internal_api: openmp\n",
      "    num_threads: 1\n",
      "         prefix: libiomp\n",
      "       filepath: C:\\Users\\padul\\anaconda3\\envs\\ia-flower\\Library\\bin\\libiomp5md.dll\n",
      "        version: None\n",
      "\n",
      "       user_api: openmp\n",
      "   internal_api: openmp\n",
      "    num_threads: 22\n",
      "         prefix: vcomp\n",
      "       filepath: C:\\Users\\padul\\anaconda3\\envs\\ia-flower\\vcomp140.dll\n",
      "        version: None\n",
      "\n",
      "       user_api: openmp\n",
      "   internal_api: openmp\n",
      "    num_threads: 22\n",
      "         prefix: vcomp\n",
      "       filepath: C:\\Users\\padul\\anaconda3\\envs\\ia-flower\\Lib\\site-packages\\sklearn\\.libs\\vcomp140.dll\n",
      "        version: None\n"
     ]
    }
   ],
   "execution_count": 5
  },
  {
   "cell_type": "markdown",
   "id": "4ebf3389d35dacb5",
   "metadata": {},
   "source": [
    "## 6. Resumen de validación del entorno\n",
    "\n",
    "Esta celda resume la validación. Si falta algún componente crítico, revisa la salida anterior y realiza la instalación o configuración necesaria."
   ]
  },
  {
   "cell_type": "code",
   "id": "7f962d189ad1fdc2",
   "metadata": {
    "ExecuteTime": {
     "end_time": "2025-07-28T18:41:30.862076Z",
     "start_time": "2025-07-28T18:41:30.814506Z"
    }
   },
   "source": [
    "# Resumen simple del entorno\n",
    "missing = []\n",
    "\n",
    "# Comprobación de versión de Python\n",
    "if sys.version_info < (3, 8):\n",
    "    missing.append('Se requiere Python >= 3.8')\n",
    "\n",
    "# Comprobación de paquetes\n",
    "for pkg in packages:\n",
    "    try:\n",
    "        importlib.import_module(pkg)\n",
    "    except:\n",
    "        missing.append(f\"{pkg} no está instalado\")\n",
    "\n",
    "# Comprobación de GPU con PyTorch\n",
    "if not torch.cuda.is_available():\n",
    "    missing.append('PyTorch no detecta GPU NVIDIA')\n",
    "\n",
    "# Comprobación de dispositivos OpenVINO\n",
    "try:\n",
    "    ov_devices = core.available_devices\n",
    "    if not any('CPU' in d for d in ov_devices):\n",
    "        missing.append('OpenVINO no detecta CPU')\n",
    "    if not any('GPU' in d for d in ov_devices):\n",
    "        missing.append('OpenVINO no detecta GPU')\n",
    "    if not any('NPU' in d or 'AUTO:NPU' in d for d in ov_devices):\n",
    "        missing.append('OpenVINO no detecta NPU (Intel AI Boost)')\n",
    "except:\n",
    "    missing.append('Fallo en la detección de dispositivos OpenVINO')\n",
    "\n",
    "# Comprobación de scikit-learn\n",
    "try:\n",
    "    import sklearn\n",
    "    from sklearn.ensemble import RandomForestClassifier\n",
    "    from sklearn.model_selection import train_test_split\n",
    "    from sklearn.metrics import accuracy_score\n",
    "\n",
    "    sklearn.show_versions()\n",
    "except Exception:\n",
    "    missing.append('scikit-learn no está correctamente instalado o configurado')\n",
    "\n",
    "if missing:\n",
    "    print('El entorno NO está listo. Problemas detectados:')\n",
    "    for m in missing:\n",
    "        print(f'- {m}')\n",
    "else:\n",
    "    print('¡El entorno está LISTO para los experimentos de aprendizaje federado!')"
   ],
   "outputs": [
    {
     "name": "stdout",
     "output_type": "stream",
     "text": [
      "\n",
      "System:\n",
      "    python: 3.13.5 | packaged by conda-forge | (main, Jun 16 2025, 08:20:19) [MSC v.1943 64 bit (AMD64)]\n",
      "executable: C:\\Users\\padul\\anaconda3\\envs\\ia-flower\\python.exe\n",
      "   machine: Windows-11-10.0.26100-SP0\n",
      "\n",
      "Python dependencies:\n",
      "      sklearn: 1.7.1\n",
      "          pip: 25.1.1\n",
      "   setuptools: 75.8.2\n",
      "        numpy: 2.3.2\n",
      "        scipy: 1.16.0\n",
      "       Cython: None\n",
      "       pandas: 2.3.1\n",
      "   matplotlib: 3.10.3\n",
      "       joblib: 1.5.1\n",
      "threadpoolctl: 3.6.0\n",
      "\n",
      "Built with OpenMP: True\n",
      "\n",
      "threadpoolctl info:\n",
      "       user_api: blas\n",
      "   internal_api: mkl\n",
      "    num_threads: 1\n",
      "         prefix: libblas\n",
      "       filepath: C:\\Users\\padul\\anaconda3\\envs\\ia-flower\\Library\\bin\\libblas.dll\n",
      "        version: 2025.2-Product\n",
      "threading_layer: intel\n",
      "\n",
      "       user_api: openmp\n",
      "   internal_api: openmp\n",
      "    num_threads: 1\n",
      "         prefix: libiomp\n",
      "       filepath: C:\\Users\\padul\\anaconda3\\envs\\ia-flower\\Library\\bin\\libiomp5md.dll\n",
      "        version: None\n",
      "\n",
      "       user_api: openmp\n",
      "   internal_api: openmp\n",
      "    num_threads: 22\n",
      "         prefix: vcomp\n",
      "       filepath: C:\\Users\\padul\\anaconda3\\envs\\ia-flower\\vcomp140.dll\n",
      "        version: None\n",
      "\n",
      "       user_api: openmp\n",
      "   internal_api: openmp\n",
      "    num_threads: 22\n",
      "         prefix: vcomp\n",
      "       filepath: C:\\Users\\padul\\anaconda3\\envs\\ia-flower\\Lib\\site-packages\\sklearn\\.libs\\vcomp140.dll\n",
      "        version: None\n",
      "¡El entorno está LISTO para los experimentos de aprendizaje federado!\n"
     ]
    }
   ],
   "execution_count": 6
  }
 ],
 "metadata": {
  "language_info": {
   "name": "python"
  }
 },
 "nbformat": 4,
 "nbformat_minor": 5
}
