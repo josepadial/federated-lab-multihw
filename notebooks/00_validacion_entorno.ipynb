{
 "cells": [
  {
   "cell_type": "markdown",
   "id": "e89b0fa79a0a122a",
   "metadata": {},
   "source": [
    "# 00. Environment Validation\n",
    "\n",
    "This notebook validates the Python environment and the hardware/software configuration for the federated learning lab. It checks the Python version, main packages, and hardware acceleration support (CPU, GPU, NPU).\n",
    "\n",
    "---"
   ]
  },
  {
   "cell_type": "markdown",
   "id": "56d9d5bc3fa0776d",
   "metadata": {},
   "source": [
    "## 1. Python Version and Interpreter Path\n",
    "\n",
    "Check the Python version and the interpreter path used by the environment."
   ]
  },
  {
   "cell_type": "code",
   "id": "a175ca40fceed2f3",
   "metadata": {
    "ExecuteTime": {
     "end_time": "2025-07-30T09:00:06.649713Z",
     "start_time": "2025-07-30T09:00:06.643598Z"
    }
   },
   "source": [
    "import sys\n",
    "\n",
    "\n",
    "def print_python_info():\n",
    "    \"\"\"\n",
    "    Prints the current Python version and interpreter path.\n",
    "    \"\"\"\n",
    "    print(f\"Python version: {sys.version}\")\n",
    "    print(f\"Interpreter path: {sys.executable}\")\n",
    "\n",
    "\n",
    "print_python_info()\n"
   ],
   "outputs": [
    {
     "name": "stdout",
     "output_type": "stream",
     "text": [
      "Python version: 3.13.5 | packaged by conda-forge | (main, Jun 16 2025, 08:20:19) [MSC v.1943 64 bit (AMD64)]\n",
      "Interpreter path: C:\\Users\\padul\\anaconda3\\envs\\ia-flower\\python.exe\n"
     ]
    }
   ],
   "execution_count": 1
  },
  {
   "cell_type": "markdown",
   "id": "b38897499c130039",
   "metadata": {},
   "source": [
    "## 2. Main Package Versions\n",
    "\n",
    "List and display the versions of the key packages for the lab."
   ]
  },
  {
   "cell_type": "code",
   "id": "d2f58e7eb5c708f5",
   "metadata": {
    "ExecuteTime": {
     "end_time": "2025-07-30T09:22:44.305861Z",
     "start_time": "2025-07-30T09:22:44.300947Z"
    }
   },
   "source": [
    "import importlib\n",
    "\n",
    "\n",
    "def print_package_versions(packages):\n",
    "    \"\"\"\n",
    "    Prints the version of each package in the provided list. If not installed, prints an error message.\n",
    "    Args:\n",
    "        packages (list): List of package names as strings.\n",
    "    \"\"\"\n",
    "    for pkg in packages:\n",
    "        try:\n",
    "            mod = importlib.import_module(pkg)\n",
    "            ver = getattr(mod, '__version__', 'unknown')\n",
    "            print(f\"{pkg}: {ver}\")\n",
    "        except Exception as e:\n",
    "            print(f\"{pkg}: NOT INSTALLED ({e})\")\n",
    "\n",
    "\n",
    "main_packages = [\n",
    "    'numpy', 'pandas', 'matplotlib', 'psutil', 'tqdm',\n",
    "    'torch', 'flwr', 'openvino', 'openvino_genai', 'notebook',\n",
    "    # Project-specific modules and their dependencies\n",
    "    'sklearn', 'seaborn', 'tabulate',\n",
    "]\n",
    "\n",
    "print_package_versions(main_packages)"
   ],
   "outputs": [
    {
     "name": "stdout",
     "output_type": "stream",
     "text": [
      "numpy: 2.3.2\n",
      "pandas: 2.3.1\n",
      "matplotlib: 3.10.3\n",
      "psutil: 7.0.0\n",
      "tqdm: 4.67.1\n",
      "torch: 2.5.1\n",
      "flwr: 1.19.0\n",
      "openvino: 2025.2.0-19140-c01cd93e24d-releases/2025/2\n",
      "openvino_genai: 2025.2.0.0-2260-01f0fe1eded\n",
      "notebook: 7.4.4\n",
      "sklearn: 1.7.1\n",
      "seaborn: 0.13.2\n",
      "tabulate: 0.9.0\n"
     ]
    }
   ],
   "execution_count": 14
  },
  {
   "cell_type": "markdown",
   "id": "c69f52be42bdfa5c",
   "metadata": {},
   "source": [
    "## 3. Validate NVIDIA GPU and CUDA Version with PyTorch\n",
    "\n",
    "Check if PyTorch detects the NVIDIA GPU and display the CUDA version."
   ]
  },
  {
   "cell_type": "code",
   "id": "5c3ea650ae270fe0",
   "metadata": {
    "ExecuteTime": {
     "end_time": "2025-07-30T09:00:13.910869Z",
     "start_time": "2025-07-30T09:00:13.870003Z"
    }
   },
   "source": [
    "import torch\n",
    "\n",
    "gpu_available = torch.cuda.is_available()\n",
    "print(f\"Is GPU available (torch.cuda.is_available)? {gpu_available}\")\n",
    "if gpu_available:\n",
    "    print(f\"CUDA version (torch.version.cuda): {torch.version.cuda}\")\n",
    "    print(f\"Number of GPUs: {torch.cuda.device_count()}\")\n",
    "    print(f\"GPU name: {torch.cuda.get_device_name(0)}\")\n",
    "else:\n",
    "    print(\"PyTorch does not detect an NVIDIA GPU.\")"
   ],
   "outputs": [
    {
     "name": "stdout",
     "output_type": "stream",
     "text": [
      "Is GPU available (torch.cuda.is_available)? True\n",
      "CUDA version (torch.version.cuda): 12.6\n",
      "Number of GPUs: 1\n",
      "GPU name: NVIDIA GeForce RTX 4080 Laptop GPU\n"
     ]
    }
   ],
   "execution_count": 3
  },
  {
   "cell_type": "markdown",
   "id": "1a4e2abb11a145f4",
   "metadata": {},
   "source": [
    "## 4. Device Detection with OpenVINO\n",
    "\n",
    "List the available devices (CPU, GPU, NPU) using OpenVINO."
   ]
  },
  {
   "cell_type": "code",
   "id": "747948e52475cbd4",
   "metadata": {
    "ExecuteTime": {
     "end_time": "2025-07-30T09:00:15.217586Z",
     "start_time": "2025-07-30T09:00:13.981583Z"
    }
   },
   "source": [
    "try:\n",
    "    from openvino import Core\n",
    "\n",
    "    core = Core()\n",
    "    devices = core.available_devices\n",
    "    print(\"Available devices in OpenVINO:\")\n",
    "    for d in devices:\n",
    "        print(f\" - {d}\")\n",
    "    print(\"\\nDevice summary:\")\n",
    "    print(f\"CPU detected: {any('CPU' in d for d in devices)}\")\n",
    "    print(f\"GPU detected: {any('GPU' in d for d in devices)}\")\n",
    "    print(f\"NPU (Intel AI Boost) detected: {any('NPU' in d or 'AUTO:NPU' in d for d in devices)}\")\n",
    "except Exception as e:\n",
    "    print(f\"Failed to detect OpenVINO devices: {e}\")"
   ],
   "outputs": [
    {
     "name": "stdout",
     "output_type": "stream",
     "text": [
      "Available devices in OpenVINO:\n",
      " - CPU\n",
      " - GPU\n",
      " - NPU\n",
      "\n",
      "Device summary:\n",
      "CPU detected: True\n",
      "GPU detected: True\n",
      "NPU (Intel AI Boost) detected: True\n"
     ]
    }
   ],
   "execution_count": 4
  },
  {
   "cell_type": "markdown",
   "id": "4e1dd053dcf4bc73",
   "metadata": {},
   "source": [
    "## 5. Validate scikit-learn\n",
    "\n",
    "Validate the installation and configuration of scikit-learn, including version, main modules, and detailed configuration."
   ]
  },
  {
   "cell_type": "code",
   "id": "ee7523cbc3ca0bba",
   "metadata": {
    "ExecuteTime": {
     "end_time": "2025-07-30T09:00:17.163959Z",
     "start_time": "2025-07-30T09:00:15.236366Z"
    }
   },
   "source": [
    "print(\"\\n--- Validating scikit-learn ---\")\n",
    "try:\n",
    "    import sklearn\n",
    "\n",
    "    print(f\"✔ scikit-learn imported successfully. Version: {sklearn.__version__}\")\n",
    "    # Check some main modules\n",
    "    from sklearn.ensemble import RandomForestClassifier\n",
    "    from sklearn.model_selection import train_test_split\n",
    "    from sklearn.metrics import accuracy_score\n",
    "\n",
    "    print(\"✔ Main scikit-learn modules are available\")\n",
    "    # Show detailed configuration\n",
    "    sklearn.show_versions()\n",
    "except Exception as e:\n",
    "    print(f\"✗ Error validating scikit-learn: {e}\")"
   ],
   "outputs": [
    {
     "name": "stdout",
     "output_type": "stream",
     "text": [
      "\n",
      "--- Validating scikit-learn ---\n",
      "✔ scikit-learn imported successfully. Version: 1.7.1\n",
      "✔ Main scikit-learn modules are available\n",
      "\n",
      "System:\n",
      "    python: 3.13.5 | packaged by conda-forge | (main, Jun 16 2025, 08:20:19) [MSC v.1943 64 bit (AMD64)]\n",
      "executable: C:\\Users\\padul\\anaconda3\\envs\\ia-flower\\python.exe\n",
      "   machine: Windows-11-10.0.26100-SP0\n",
      "\n",
      "Python dependencies:\n",
      "      sklearn: 1.7.1\n",
      "          pip: 25.1.1\n",
      "   setuptools: 75.8.2\n",
      "        numpy: 2.3.2\n",
      "        scipy: 1.16.0\n",
      "       Cython: None\n",
      "       pandas: 2.3.1\n",
      "   matplotlib: 3.10.3\n",
      "       joblib: 1.5.1\n",
      "threadpoolctl: 3.6.0\n",
      "\n",
      "Built with OpenMP: True\n",
      "\n",
      "threadpoolctl info:\n",
      "       user_api: blas\n",
      "   internal_api: mkl\n",
      "    num_threads: 1\n",
      "         prefix: libblas\n",
      "       filepath: C:\\Users\\padul\\anaconda3\\envs\\ia-flower\\Library\\bin\\libblas.dll\n",
      "        version: 2025.2-Product\n",
      "threading_layer: intel\n",
      "\n",
      "       user_api: openmp\n",
      "   internal_api: openmp\n",
      "    num_threads: 1\n",
      "         prefix: libiomp\n",
      "       filepath: C:\\Users\\padul\\anaconda3\\envs\\ia-flower\\Library\\bin\\libiomp5md.dll\n",
      "        version: None\n",
      "\n",
      "       user_api: openmp\n",
      "   internal_api: openmp\n",
      "    num_threads: 22\n",
      "         prefix: vcomp\n",
      "       filepath: C:\\Users\\padul\\anaconda3\\envs\\ia-flower\\vcomp140.dll\n",
      "        version: None\n",
      "\n",
      "       user_api: openmp\n",
      "   internal_api: openmp\n",
      "    num_threads: 22\n",
      "         prefix: vcomp\n",
      "       filepath: C:\\Users\\padul\\anaconda3\\envs\\ia-flower\\Lib\\site-packages\\sklearn\\.libs\\vcomp140.dll\n",
      "        version: None\n"
     ]
    }
   ],
   "execution_count": 5
  },
  {
   "cell_type": "markdown",
   "id": "4ebf3389d35dacb5",
   "metadata": {},
   "source": [
    "## 6. Environment Validation Summary\n",
    "\n",
    "This cell summarizes the validation. If any critical component is missing, check the previous output and install or configure as necessary."
   ]
  },
  {
   "cell_type": "code",
   "id": "7f962d189ad1fdc2",
   "metadata": {
    "ExecuteTime": {
     "end_time": "2025-07-30T09:00:17.295387Z",
     "start_time": "2025-07-30T09:00:17.178936Z"
    }
   },
   "source": [
    "# Simple environment summary\n",
    "missing = []\n",
    "\n",
    "# Python version check\n",
    "if sys.version_info < (3, 8):\n",
    "    missing.append('Python >= 3.8 is required')\n",
    "\n",
    "# Package availability check\n",
    "for pkg in main_packages:\n",
    "    try:\n",
    "        importlib.import_module(pkg)\n",
    "    except:\n",
    "        missing.append(f\"{pkg} is not installed\")\n",
    "\n",
    "# GPU availability with PyTorch\n",
    "if not torch.cuda.is_available():\n",
    "    missing.append('PyTorch does not detect NVIDIA GPU')\n",
    "\n",
    "# OpenVINO device detection\n",
    "try:\n",
    "    ov_devices = core.available_devices\n",
    "    if not any('CPU' in d for d in ov_devices):\n",
    "        missing.append('OpenVINO does not detect CPU')\n",
    "    if not any('GPU' in d for d in ov_devices):\n",
    "        missing.append('OpenVINO does not detect GPU')\n",
    "    if not any('NPU' in d or 'AUTO:NPU' in d for d in ov_devices):\n",
    "        missing.append('OpenVINO does not detect NPU (Intel AI Boost)')\n",
    "except:\n",
    "    missing.append('Failed to detect OpenVINO devices')\n",
    "\n",
    "# scikit-learn validation\n",
    "try:\n",
    "    import sklearn\n",
    "    from sklearn.ensemble import RandomForestClassifier\n",
    "    from sklearn.model_selection import train_test_split\n",
    "    from sklearn.metrics import accuracy_score\n",
    "\n",
    "    sklearn.show_versions()\n",
    "except Exception:\n",
    "    missing.append('scikit-learn is not correctly installed or configured')\n",
    "\n",
    "if missing:\n",
    "    print('The environment is NOT ready. Detected issues:')\n",
    "    for m in missing:\n",
    "        print(f'- {m}')\n",
    "else:\n",
    "    print('The environment is READY for federated learning experiments!')\n"
   ],
   "outputs": [
    {
     "name": "stdout",
     "output_type": "stream",
     "text": [
      "\n",
      "System:\n",
      "    python: 3.13.5 | packaged by conda-forge | (main, Jun 16 2025, 08:20:19) [MSC v.1943 64 bit (AMD64)]\n",
      "executable: C:\\Users\\padul\\anaconda3\\envs\\ia-flower\\python.exe\n",
      "   machine: Windows-11-10.0.26100-SP0\n",
      "\n",
      "Python dependencies:\n",
      "      sklearn: 1.7.1\n",
      "          pip: 25.1.1\n",
      "   setuptools: 75.8.2\n",
      "        numpy: 2.3.2\n",
      "        scipy: 1.16.0\n",
      "       Cython: None\n",
      "       pandas: 2.3.1\n",
      "   matplotlib: 3.10.3\n",
      "       joblib: 1.5.1\n",
      "threadpoolctl: 3.6.0\n",
      "\n",
      "Built with OpenMP: True\n",
      "\n",
      "threadpoolctl info:\n",
      "       user_api: blas\n",
      "   internal_api: mkl\n",
      "    num_threads: 1\n",
      "         prefix: libblas\n",
      "       filepath: C:\\Users\\padul\\anaconda3\\envs\\ia-flower\\Library\\bin\\libblas.dll\n",
      "        version: 2025.2-Product\n",
      "threading_layer: intel\n",
      "\n",
      "       user_api: openmp\n",
      "   internal_api: openmp\n",
      "    num_threads: 1\n",
      "         prefix: libiomp\n",
      "       filepath: C:\\Users\\padul\\anaconda3\\envs\\ia-flower\\Library\\bin\\libiomp5md.dll\n",
      "        version: None\n",
      "\n",
      "       user_api: openmp\n",
      "   internal_api: openmp\n",
      "    num_threads: 22\n",
      "         prefix: vcomp\n",
      "       filepath: C:\\Users\\padul\\anaconda3\\envs\\ia-flower\\vcomp140.dll\n",
      "        version: None\n",
      "\n",
      "       user_api: openmp\n",
      "   internal_api: openmp\n",
      "    num_threads: 22\n",
      "         prefix: vcomp\n",
      "       filepath: C:\\Users\\padul\\anaconda3\\envs\\ia-flower\\Lib\\site-packages\\sklearn\\.libs\\vcomp140.dll\n",
      "        version: None\n",
      "The environment is READY for federated learning experiments!\n"
     ]
    }
   ],
   "execution_count": 6
  }
 ],
 "metadata": {
  "language_info": {
   "name": "python"
  }
 },
 "nbformat": 4,
 "nbformat_minor": 5
}
