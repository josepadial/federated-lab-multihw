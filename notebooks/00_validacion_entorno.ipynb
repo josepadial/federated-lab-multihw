{
 "cells": [
  {
   "cell_type": "markdown",
   "id": "e89b0fa79a0a122a",
   "metadata": {},
   "source": [
    "# 00. Environment Validation\n",
    "\n",
    "This notebook validates the Python environment and the hardware/software configuration for the federated learning lab. It checks the Python version, main packages, hardware, and software dependencies required for experiments.\n",
    "\n",
    "---"
   ]
  },
  {
   "cell_type": "markdown",
   "id": "56d9d5bc3fa0776d",
   "metadata": {},
   "source": [
    "## 1. Python Version and Interpreter Path\n",
    "\n",
    "Check the Python version and the interpreter path used by the environment."
   ]
  },
  {
   "cell_type": "code",
   "id": "a175ca40fceed2f3",
   "metadata": {
    "ExecuteTime": {
     "end_time": "2025-08-12T17:42:24.661397Z",
     "start_time": "2025-08-12T17:42:24.647105Z"
    }
   },
   "source": [
    "import sys\n",
    "\n",
    "def print_python_info():\n",
    "    \"\"\"\n",
    "    Prints the current Python version and interpreter path.\n",
    "    \"\"\"\n",
    "    print(f\"Python version: {sys.version}\")\n",
    "    print(f\"Interpreter path: {sys.executable}\")\n",
    "\n",
    "print_python_info()\n"
   ],
   "outputs": [
    {
     "name": "stdout",
     "output_type": "stream",
     "text": [
      "Python version: 3.11.9 (tags/v3.11.9:de54cf5, Apr  2 2024, 10:12:12) [MSC v.1938 64 bit (AMD64)]\n",
      "Interpreter path: C:\\Users\\padul\\venv\\ia-flower\\Scripts\\python.exe\n"
     ]
    }
   ],
   "execution_count": 1
  },
  {
   "cell_type": "markdown",
   "id": "b38897499c130039",
   "metadata": {},
   "source": [
    "## 2. Main Package Versions\n",
    "\n",
    "List and display the versions of the key packages for the lab. If a package is not installed, an error message will be shown."
   ]
  },
  {
   "cell_type": "code",
   "id": "d2f58e7eb5c708f5",
   "metadata": {
    "ExecuteTime": {
     "end_time": "2025-08-12T17:42:34.067325Z",
     "start_time": "2025-08-12T17:42:24.737006Z"
    }
   },
   "source": [
    "import importlib\n",
    "\n",
    "main_packages = [\n",
    "    ('numpy', 'numpy'),\n",
    "    ('pandas', 'pandas'),\n",
    "    ('protobuf', 'google.protobuf'),\n",
    "    ('py-cpuinfo', 'cpuinfo'),\n",
    "    ('scikit-learn', 'sklearn'),\n",
    "    ('matplotlib', 'matplotlib'),\n",
    "    ('seaborn', 'seaborn'),\n",
    "    ('tqdm', 'tqdm'),\n",
    "    ('tabulate', 'tabulate'),\n",
    "    ('torch', 'torch'),\n",
    "    ('flwr', 'flwr'),\n",
    "    ('onnx', 'onnx'),\n",
    "    ('onnxruntime', 'onnxruntime'),\n",
    "    ('openvino', 'openvino'),\n",
    "    ('openvino-genai', 'openvino_genai'),\n",
    "    ('notebook', 'notebook'),\n",
    "    ('ipywidgets', 'ipywidgets'),\n",
    "]\n",
    "\n",
    "def print_package_versions_v2(packages):\n",
    "    \"\"\"\n",
    "    Prints the version of each package in the provided list. If not installed, prints an error message.\n",
    "    Args:\n",
    "        packages (list): List of package names as strings.\n",
    "    \"\"\"\n",
    "    for pip_name, import_name in packages:\n",
    "        try:\n",
    "            mod = importlib.import_module(import_name)\n",
    "            # Special handling for py-cpuinfo, which does not have __version__\n",
    "            if pip_name == 'py-cpuinfo':\n",
    "                try:\n",
    "                    import importlib.metadata as importlib_metadata\n",
    "                except ImportError:\n",
    "                    import importlib_metadata\n",
    "                ver = importlib_metadata.version('py-cpuinfo')\n",
    "            else:\n",
    "                ver = getattr(mod, '__version__', 'unknown')\n",
    "            print(f\"{pip_name}: {ver}\")\n",
    "        except Exception as e:\n",
    "            print(f\"{pip_name}: NOT INSTALLED ({e})\")\n",
    "\n",
    "print_package_versions_v2(main_packages)\n"
   ],
   "outputs": [
    {
     "name": "stdout",
     "output_type": "stream",
     "text": [
      "numpy: 2.2.6\n",
      "pandas: 2.3.1\n",
      "protobuf: 4.25.8\n",
      "py-cpuinfo: 9.0.0\n",
      "scikit-learn: 1.5.2\n",
      "matplotlib: 3.10.5\n",
      "seaborn: 0.13.2\n",
      "tqdm: 4.67.1\n",
      "tabulate: 0.9.0\n",
      "torch: 2.8.0+cu129\n",
      "flwr: 1.20.0\n",
      "onnx: 1.18.0\n",
      "onnxruntime: 1.22.0\n",
      "openvino: 2025.2.0-19140-c01cd93e24d-releases/2025/2\n",
      "openvino-genai: 2025.2.0.0-2260-01f0fe1eded\n",
      "notebook: 7.4.5\n",
      "ipywidgets: 8.1.7\n"
     ]
    }
   ],
   "execution_count": 2
  },
  {
   "metadata": {},
   "cell_type": "markdown",
   "source": [
    "## 3. CPU Information\n",
    "\n",
    "Display detailed CPU information using py-cpuinfo."
   ],
   "id": "31c4db17b7e156a7"
  },
  {
   "metadata": {
    "ExecuteTime": {
     "end_time": "2025-08-12T17:42:36.158833Z",
     "start_time": "2025-08-12T17:42:34.153626Z"
    }
   },
   "cell_type": "code",
   "source": [
    "try:\n",
    "    import cpuinfo\n",
    "    info = cpuinfo.get_cpu_info()\n",
    "    print(\"CPU Information:\")\n",
    "    print(f\"  Brand: {info.get('brand_raw', 'N/A')}\")\n",
    "    print(f\"  Arch: {info.get('arch', 'N/A')}\")\n",
    "    print(f\"  Bits: {info.get('bits', 'N/A')}\")\n",
    "    print(f\"  Count: {info.get('count', 'N/A')}\")\n",
    "    print(f\"  L2 Cache Size: {info.get('l2_cache_size', 'N/A')}\")\n",
    "    print(f\"  L3 Cache Size: {info.get('l3_cache_size', 'N/A')}\")\n",
    "except Exception as e:\n",
    "    print(f\"Could not retrieve CPU information: {e}\")\n"
   ],
   "id": "8c6a3040aa45c843",
   "outputs": [
    {
     "name": "stdout",
     "output_type": "stream",
     "text": [
      "CPU Information:\n",
      "  Brand: Intel(R) Core(TM) Ultra 9 185H\n",
      "  Arch: X86_64\n",
      "  Bits: 64\n",
      "  Count: 22\n",
      "  L2 Cache Size: 18874368\n",
      "  L3 Cache Size: 25165824\n"
     ]
    }
   ],
   "execution_count": 3
  },
  {
   "metadata": {},
   "cell_type": "markdown",
   "source": [
    "## 4. Jupyter Widgets: ipywidgets\n",
    "\n",
    "Check if ipywidgets is installed and working for rich notebook outputs."
   ],
   "id": "9f2a06f866060660"
  },
  {
   "metadata": {
    "ExecuteTime": {
     "end_time": "2025-08-12T17:42:36.192750Z",
     "start_time": "2025-08-12T17:42:36.187873Z"
    }
   },
   "cell_type": "code",
   "source": [
    "try:\n",
    "    import ipywidgets as widgets\n",
    "    print(f\"✔ ipywidgets installed. Version: {widgets.__version__}\")\n",
    "except Exception as e:\n",
    "    print(f\"✗ ipywidgets is not installed or not working: {e}\")\n"
   ],
   "id": "5f0b8ff46a1abdcf",
   "outputs": [
    {
     "name": "stdout",
     "output_type": "stream",
     "text": [
      "✔ ipywidgets installed. Version: 8.1.7\n"
     ]
    }
   ],
   "execution_count": 4
  },
  {
   "metadata": {},
   "cell_type": "markdown",
   "source": [
    "## 5. PyTorch: NVIDIA GPU and CUDA Version\n",
    "\n",
    "Check if PyTorch detects an NVIDIA GPU and display the CUDA version."
   ],
   "id": "3a05d435d7da1db8"
  },
  {
   "metadata": {
    "ExecuteTime": {
     "end_time": "2025-08-12T17:42:38.437987Z",
     "start_time": "2025-08-12T17:42:36.201274Z"
    }
   },
   "cell_type": "code",
   "source": [
    "import torch\n",
    "\n",
    "gpu_available = torch.cuda.is_available()\n",
    "print(f\"Is GPU available (torch.cuda.is_available)? {gpu_available}\")\n",
    "if gpu_available:\n",
    "    print(f\"CUDA version (torch.version.cuda): {torch.version.cuda}\")\n",
    "    print(f\"Number of GPUs: {torch.cuda.device_count()}\")\n",
    "    print(f\"GPU name: {torch.cuda.get_device_name(0)}\")\n",
    "else:\n",
    "    print(\"PyTorch does not detect an NVIDIA GPU.\")\n"
   ],
   "id": "bb713246bd3de774",
   "outputs": [
    {
     "name": "stdout",
     "output_type": "stream",
     "text": [
      "Is GPU available (torch.cuda.is_available)? True\n",
      "CUDA version (torch.version.cuda): 12.9\n",
      "Number of GPUs: 1\n",
      "GPU name: NVIDIA GeForce RTX 4080 Laptop GPU\n"
     ]
    }
   ],
   "execution_count": 5
  },
  {
   "metadata": {},
   "cell_type": "markdown",
   "source": [
    "## 6. OpenVINO: Device Detection\n",
    "\n",
    "List the available devices (CPU, GPU, NPU) using OpenVINO."
   ],
   "id": "61d65ed3d9fc2e17"
  },
  {
   "metadata": {
    "ExecuteTime": {
     "end_time": "2025-08-12T17:42:40.039288Z",
     "start_time": "2025-08-12T17:42:38.475529Z"
    }
   },
   "cell_type": "code",
   "source": [
    "try:\n",
    "    from openvino import Core\n",
    "    core = Core()\n",
    "    devices = core.available_devices\n",
    "    print(\"Available devices in OpenVINO:\")\n",
    "    for d in devices:\n",
    "        print(f\" - {d}\")\n",
    "    print(\"\\nDevice summary:\")\n",
    "    print(f\"CPU detected: {any('CPU' in d for d in devices)}\")\n",
    "    print(f\"GPU detected: {any('GPU' in d for d in devices)}\")\n",
    "    print(f\"NPU (Intel AI Boost) detected: {any('NPU' in d or 'AUTO:NPU' in d for d in devices)}\")\n",
    "except Exception as e:\n",
    "    print(f\"Failed to detect OpenVINO devices: {e}\")\n"
   ],
   "id": "d892c355f368079f",
   "outputs": [
    {
     "name": "stdout",
     "output_type": "stream",
     "text": [
      "Available devices in OpenVINO:\n",
      " - CPU\n",
      " - GPU\n",
      " - NPU\n",
      "\n",
      "Device summary:\n",
      "CPU detected: True\n",
      "GPU detected: True\n",
      "NPU (Intel AI Boost) detected: True\n"
     ]
    }
   ],
   "execution_count": 6
  },
  {
   "metadata": {},
   "cell_type": "markdown",
   "source": [
    "## 7. scikit-learn: Validation\n",
    "\n",
    "Validate the installation and configuration of scikit-learn, including version, main modules, and detailed configuration."
   ],
   "id": "76e397383286565e"
  },
  {
   "metadata": {
    "ExecuteTime": {
     "end_time": "2025-08-12T17:42:40.474939Z",
     "start_time": "2025-08-12T17:42:40.057881Z"
    }
   },
   "cell_type": "code",
   "source": [
    "print(\"\\n--- Validating scikit-learn ---\")\n",
    "try:\n",
    "    import sklearn\n",
    "    print(f\"✔ scikit-learn imported successfully. Version: {sklearn.__version__}\")\n",
    "    from sklearn.ensemble import RandomForestClassifier\n",
    "    from sklearn.model_selection import train_test_split\n",
    "    from sklearn.metrics import accuracy_score\n",
    "    print(\"✔ Main scikit-learn modules are available\")\n",
    "    sklearn.show_versions()\n",
    "except Exception as e:\n",
    "    print(f\"✗ Error validating scikit-learn: {e}\")\n"
   ],
   "id": "d0191ce740c231bc",
   "outputs": [
    {
     "name": "stdout",
     "output_type": "stream",
     "text": [
      "\n",
      "--- Validating scikit-learn ---\n",
      "✔ scikit-learn imported successfully. Version: 1.5.2\n",
      "✔ Main scikit-learn modules are available\n",
      "\n",
      "System:\n",
      "    python: 3.11.9 (tags/v3.11.9:de54cf5, Apr  2 2024, 10:12:12) [MSC v.1938 64 bit (AMD64)]\n",
      "executable: C:\\Users\\padul\\venv\\ia-flower\\Scripts\\python.exe\n",
      "   machine: Windows-10-10.0.26100-SP0\n",
      "\n",
      "Python dependencies:\n",
      "      sklearn: 1.5.2\n",
      "          pip: 25.2\n",
      "   setuptools: 80.9.0\n",
      "        numpy: 2.2.6\n",
      "        scipy: 1.16.1\n",
      "       Cython: None\n",
      "       pandas: 2.3.1\n",
      "   matplotlib: 3.10.5\n",
      "       joblib: 1.5.1\n",
      "threadpoolctl: 3.6.0\n",
      "\n",
      "Built with OpenMP: True\n",
      "\n",
      "threadpoolctl info:\n",
      "       user_api: blas\n",
      "   internal_api: openblas\n",
      "    num_threads: 22\n",
      "         prefix: libscipy_openblas\n",
      "       filepath: C:\\Users\\padul\\venv\\ia-flower\\Lib\\site-packages\\numpy.libs\\libscipy_openblas64_-13e2df515630b4a41f92893938845698.dll\n",
      "        version: 0.3.29\n",
      "threading_layer: pthreads\n",
      "   architecture: Haswell\n",
      "\n",
      "       user_api: openmp\n",
      "   internal_api: openmp\n",
      "    num_threads: 22\n",
      "         prefix: vcomp\n",
      "       filepath: C:\\Users\\padul\\venv\\ia-flower\\Lib\\site-packages\\sklearn\\.libs\\vcomp140.dll\n",
      "        version: None\n",
      "\n",
      "       user_api: blas\n",
      "   internal_api: openblas\n",
      "    num_threads: 22\n",
      "         prefix: libscipy_openblas\n",
      "       filepath: C:\\Users\\padul\\venv\\ia-flower\\Lib\\site-packages\\scipy.libs\\libscipy_openblas-6b2103f2ae4d8547998b5d188e9801fb.dll\n",
      "        version: 0.3.28\n",
      "threading_layer: pthreads\n",
      "   architecture: Haswell\n",
      "\n",
      "       user_api: openmp\n",
      "   internal_api: openmp\n",
      "    num_threads: 16\n",
      "         prefix: libiomp\n",
      "       filepath: C:\\Users\\padul\\venv\\ia-flower\\Lib\\site-packages\\torch\\lib\\libiomp5md.dll\n",
      "        version: None\n",
      "\n",
      "       user_api: openmp\n",
      "   internal_api: openmp\n",
      "    num_threads: 1\n",
      "         prefix: libiomp\n",
      "       filepath: C:\\Users\\padul\\venv\\ia-flower\\Lib\\site-packages\\torch\\lib\\libiompstubs5md.dll\n",
      "        version: None\n"
     ]
    }
   ],
   "execution_count": 7
  },
  {
   "metadata": {},
   "cell_type": "markdown",
   "source": [
    "## 8. pandas-stubs: Type Hints for pandas\n",
    "\n",
    "Check if pandas-stubs is installed for better code insight and type checking."
   ],
   "id": "ae35966780b70156"
  },
  {
   "metadata": {
    "ExecuteTime": {
     "end_time": "2025-08-12T17:42:40.495455Z",
     "start_time": "2025-08-12T17:42:40.488467Z"
    }
   },
   "cell_type": "code",
   "source": [
    "try:\n",
    "    try:\n",
    "        import importlib.metadata as importlib_metadata  # Python 3.8+\n",
    "    except ImportError:\n",
    "        import importlib_metadata  # Backport for older Python\n",
    "    version = importlib_metadata.version('pandas-stubs')\n",
    "    print(f\"✔ pandas-stubs installed. Version: {version}\")\n",
    "except Exception as e:\n",
    "    print(f\"✗ pandas-stubs is not installed or version could not be verified: {e}\")\n"
   ],
   "id": "a28df5df1cf27b4d",
   "outputs": [
    {
     "name": "stdout",
     "output_type": "stream",
     "text": [
      "✔ pandas-stubs installed. Version: 2.3.0.250703\n"
     ]
    }
   ],
   "execution_count": 8
  },
  {
   "metadata": {},
   "cell_type": "markdown",
   "source": [
    "## 9. onnx: Model Export\n",
    "\n",
    "Check if the onnx package is installed and show its version."
   ],
   "id": "2b792b777ec73609"
  },
  {
   "metadata": {
    "ExecuteTime": {
     "end_time": "2025-08-12T17:42:40.532414Z",
     "start_time": "2025-08-12T17:42:40.527551Z"
    }
   },
   "cell_type": "code",
   "source": [
    "try:\n",
    "    import onnx\n",
    "    print(f\"✔ onnx installed. Version: {onnx.__version__}\")\n",
    "except Exception as e:\n",
    "    print(f\"✗ onnx is not installed or version could not be verified: {e}\")\n"
   ],
   "id": "a4984bc556c36bd1",
   "outputs": [
    {
     "name": "stdout",
     "output_type": "stream",
     "text": [
      "✔ onnx installed. Version: 1.18.0\n"
     ]
    }
   ],
   "execution_count": 9
  },
  {
   "metadata": {},
   "cell_type": "markdown",
   "source": [
    "## 10. Environment Validation Summary\n",
    "\n",
    "This cell summarizes the validation. If any critical component is missing, check the previous output and install or configure as necessary."
   ],
   "id": "defa4493e3c3d450"
  },
  {
   "metadata": {
    "ExecuteTime": {
     "end_time": "2025-08-12T17:42:40.668009Z",
     "start_time": "2025-08-12T17:42:40.577948Z"
    }
   },
   "cell_type": "code",
   "source": [
    "missing = []\n",
    "\n",
    "# Python version check\n",
    "if sys.version_info < (3, 8):\n",
    "    missing.append('Python >= 3.8 is required')\n",
    "\n",
    "# Package availability check\n",
    "for pip_name, import_name in main_packages:\n",
    "    try:\n",
    "        importlib.import_module(import_name)\n",
    "    except:\n",
    "        missing.append(f\"{pip_name} is not installed\")\n",
    "\n",
    "# GPU availability with PyTorch\n",
    "if not torch.cuda.is_available():\n",
    "    missing.append('PyTorch does not detect NVIDIA GPU')\n",
    "\n",
    "# OpenVINO device detection\n",
    "try:\n",
    "    ov_devices = core.available_devices\n",
    "    if not any('CPU' in d for d in ov_devices):\n",
    "        missing.append('OpenVINO does not detect CPU')\n",
    "    if not any('GPU' in d for d in ov_devices):\n",
    "        missing.append('OpenVINO does not detect GPU')\n",
    "    if not any('NPU' in d or 'AUTO:NPU' in d for d in ov_devices):\n",
    "        missing.append('OpenVINO does not detect NPU (Intel AI Boost)')\n",
    "except:\n",
    "    missing.append('Failed to detect OpenVINO devices')\n",
    "\n",
    "# scikit-learn validation\n",
    "try:\n",
    "    import sklearn\n",
    "    from sklearn.ensemble import RandomForestClassifier\n",
    "    from sklearn.model_selection import train_test_split\n",
    "    from sklearn.metrics import accuracy_score\n",
    "    sklearn.show_versions()\n",
    "except Exception:\n",
    "    missing.append('scikit-learn is not correctly installed or configured')\n",
    "\n",
    "if missing:\n",
    "    print('The environment is NOT ready. Detected issues:')\n",
    "    for m in missing:\n",
    "        print(f'- {m}')\n",
    "else:\n",
    "    print('The environment is READY for federated learning experiments!')\n"
   ],
   "id": "3c83e54a78386ac8",
   "outputs": [
    {
     "name": "stdout",
     "output_type": "stream",
     "text": [
      "\n",
      "System:\n",
      "    python: 3.11.9 (tags/v3.11.9:de54cf5, Apr  2 2024, 10:12:12) [MSC v.1938 64 bit (AMD64)]\n",
      "executable: C:\\Users\\padul\\venv\\ia-flower\\Scripts\\python.exe\n",
      "   machine: Windows-10-10.0.26100-SP0\n",
      "\n",
      "Python dependencies:\n",
      "      sklearn: 1.5.2\n",
      "          pip: 25.2\n",
      "   setuptools: 80.9.0\n",
      "        numpy: 2.2.6\n",
      "        scipy: 1.16.1\n",
      "       Cython: None\n",
      "       pandas: 2.3.1\n",
      "   matplotlib: 3.10.5\n",
      "       joblib: 1.5.1\n",
      "threadpoolctl: 3.6.0\n",
      "\n",
      "Built with OpenMP: True\n",
      "\n",
      "threadpoolctl info:\n",
      "       user_api: blas\n",
      "   internal_api: openblas\n",
      "    num_threads: 22\n",
      "         prefix: libscipy_openblas\n",
      "       filepath: C:\\Users\\padul\\venv\\ia-flower\\Lib\\site-packages\\numpy.libs\\libscipy_openblas64_-13e2df515630b4a41f92893938845698.dll\n",
      "        version: 0.3.29\n",
      "threading_layer: pthreads\n",
      "   architecture: Haswell\n",
      "\n",
      "       user_api: openmp\n",
      "   internal_api: openmp\n",
      "    num_threads: 22\n",
      "         prefix: vcomp\n",
      "       filepath: C:\\Users\\padul\\venv\\ia-flower\\Lib\\site-packages\\sklearn\\.libs\\vcomp140.dll\n",
      "        version: None\n",
      "\n",
      "       user_api: blas\n",
      "   internal_api: openblas\n",
      "    num_threads: 22\n",
      "         prefix: libscipy_openblas\n",
      "       filepath: C:\\Users\\padul\\venv\\ia-flower\\Lib\\site-packages\\scipy.libs\\libscipy_openblas-6b2103f2ae4d8547998b5d188e9801fb.dll\n",
      "        version: 0.3.28\n",
      "threading_layer: pthreads\n",
      "   architecture: Haswell\n",
      "\n",
      "       user_api: openmp\n",
      "   internal_api: openmp\n",
      "    num_threads: 16\n",
      "         prefix: libiomp\n",
      "       filepath: C:\\Users\\padul\\venv\\ia-flower\\Lib\\site-packages\\torch\\lib\\libiomp5md.dll\n",
      "        version: None\n",
      "\n",
      "       user_api: openmp\n",
      "   internal_api: openmp\n",
      "    num_threads: 1\n",
      "         prefix: libiomp\n",
      "       filepath: C:\\Users\\padul\\venv\\ia-flower\\Lib\\site-packages\\torch\\lib\\libiompstubs5md.dll\n",
      "        version: None\n",
      "The environment is READY for federated learning experiments!\n"
     ]
    }
   ],
   "execution_count": 10
  }
 ],
 "metadata": {
  "language_info": {
   "name": "python"
  },
  "kernelspec": {
   "name": "python3",
   "language": "python",
   "display_name": "Python 3 (ipykernel)"
  }
 },
 "nbformat": 4,
 "nbformat_minor": 5
}
